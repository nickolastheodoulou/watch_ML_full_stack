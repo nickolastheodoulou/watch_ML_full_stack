{
 "cells": [
  {
   "cell_type": "code",
   "execution_count": 2,
   "metadata": {
    "collapsed": true,
    "pycharm": {
     "is_executing": false
    }
   },
   "outputs": [],
   "source": [
    "import time\n",
    "from selenium import webdriver\n",
    "from bs4 import BeautifulSoup\n",
    "import re\n",
    "import pandas as pd"
   ]
  },
  {
   "cell_type": "code",
   "execution_count": null,
   "outputs": [
    {
     "name": "stdout",
     "text": [
      "downloading image0\n",
      "downloading image1\n",
      "downloading image2\n",
      "downloading image3\n",
      "downloading image4\n",
      "downloading image5\n",
      "downloading image6\n",
      "downloading image7\n",
      "downloading image8\n",
      "downloading image9\n",
      "downloading image10\n",
      "downloading image11\n",
      "downloading image12\n",
      "downloading image13\n"
     ],
     "output_type": "stream"
    }
   ],
   "source": [
    "import requests\n",
    "\n",
    "brand = 'omega'\n",
    "\n",
    "df = pd.read_csv(brand + '.csv')\n",
    "\n",
    "for index in range(0,df.shape[0]):\n",
    "    first_url = df.iloc[index , 1]\n",
    "    brand = df.iloc[index , 0]\n",
    "    brand = str(brand)\n",
    "        \n",
    "    price = df.iloc[index , 2]\n",
    "    \n",
    "    index = str(index)\n",
    "    price =str(price)\n",
    "    \n",
    "    f = open('Data_Out/' + brand + '___' + index + '___' + price +  '.png' ,'wb')\n",
    "    f.write(requests.get(first_url).content)\n",
    "    f.close()\n",
    "    print('downloading image' + index)"
   ],
   "metadata": {
    "collapsed": false,
    "pycharm": {
     "name": "#%%\n",
     "is_executing": true
    }
   }
  },
  {
   "cell_type": "code",
   "execution_count": 5,
   "outputs": [
    {
     "name": "stdout",
     "text": [
      "137\n"
     ],
     "output_type": "stream"
    }
   ],
   "source": [],
   "metadata": {
    "collapsed": false,
    "pycharm": {
     "name": "#%%\n",
     "is_executing": false
    }
   }
  },
  {
   "cell_type": "code",
   "execution_count": null,
   "outputs": [],
   "source": [
    "\n"
   ],
   "metadata": {
    "collapsed": false,
    "pycharm": {
     "name": "#%%\n"
    }
   }
  }
 ],
 "metadata": {
  "kernelspec": {
   "display_name": "Python 3",
   "language": "python",
   "name": "python3"
  },
  "language_info": {
   "codemirror_mode": {
    "name": "ipython",
    "version": 2
   },
   "file_extension": ".py",
   "mimetype": "text/x-python",
   "name": "python",
   "nbconvert_exporter": "python",
   "pygments_lexer": "ipython2",
   "version": "2.7.6"
  },
  "pycharm": {
   "stem_cell": {
    "cell_type": "raw",
    "source": [],
    "metadata": {
     "collapsed": false
    }
   }
  }
 },
 "nbformat": 4,
 "nbformat_minor": 0
}