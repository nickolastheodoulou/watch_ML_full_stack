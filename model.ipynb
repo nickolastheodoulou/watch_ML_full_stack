{
 "cells": [
  {
   "cell_type": "code",
   "execution_count": null,
   "outputs": [],
   "source": [
    "!pip3 install fastai==1.0.57"
   ],
   "metadata": {
    "collapsed": false,
    "pycharm": {
     "name": "#%%\n"
    }
   }
  },
  {
   "cell_type": "code",
   "execution_count": null,
   "outputs": [],
   "source": [
    "import pathlib\n",
    "import numpy as np\n",
    "from fastai.vision import ImageList, get_transforms, imagenet_stats, cnn_learner, models, error_rate\n",
    "\n",
    "import warnings\n",
    "warnings.filterwarnings(\"ignore\", category=UserWarning, module=\"torch.nn.functional\")\n",
    "\n",
    "chrono_image_path = pathlib.Path('/content/drive/My Drive/Colab Notebooks/Data_Out')\n",
    "np.random.seed(42)\n",
    "\n",
    "data = ImageList.from_folder(chrono_image_path).split_by_rand_pct().label_from_re(r'.*\\/(.+)___.+___.+.png').transform(get_transforms()).databunch().normalize(imagenet_stats)\n",
    "\n",
    "print(data)\n",
    "\n",
    "data.show_batch(rows=3, figsize=(5,5))\n",
    "print(data.classes)\n",
    "\n",
    "learner = cnn_learner(data, models.resnet34, metrics=error_rate)\n",
    "\n",
    "# learner.fit_one_cycle(5, max_lr=slice(1e-4, 1e-2))\n",
    "learner.fit_one_cycle(7)\n",
    "\n",
    "learner.lr_find()\n",
    "\n",
    "learner.recorder.plot()\n",
    "\n",
    "data.valid_ds[118][0]\n",
    "\n",
    "learner.predict(data.valid_ds[118][0])\n",
    "\n",
    "learner.save('stage-2')\n",
    "\n",
    "learner.export('classifier.pkl')"
   ],
   "metadata": {
    "collapsed": false,
    "pycharm": {
     "name": "#%%\n"
    }
   }
  },
  {
   "cell_type": "code",
   "execution_count": null,
   "outputs": [],
   "source": [
    "from google.colab import files\n",
    "files.download('classifier.pkl')"
   ],
   "metadata": {
    "collapsed": false,
    "pycharm": {
     "name": "#%%\n"
    }
   }
  }
 ],
 "metadata": {
  "kernelspec": {
   "name": "python3",
   "language": "python",
   "display_name": "Python 3"
  },
  "language_info": {
   "codemirror_mode": {
    "name": "ipython",
    "version": 2
   },
   "file_extension": ".py",
   "mimetype": "text/x-python",
   "name": "python",
   "nbconvert_exporter": "python",
   "pygments_lexer": "ipython2",
   "version": "2.7.6"
  },
  "pycharm": {
   "stem_cell": {
    "cell_type": "raw",
    "source": [],
    "metadata": {
     "collapsed": false
    }
   }
  }
 },
 "nbformat": 4,
 "nbformat_minor": 0
}